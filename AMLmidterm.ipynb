{
  "cells": [
    {
      "cell_type": "markdown",
      "metadata": {
        "id": "4aQoMk--DCfN"
      },
      "source": [
        "This template notebook should serve as a guide for how to load and manipulate the dataset, and the different preprocessing methods you may choose to implement (you are welcome to try any others outside of what is provided here). This code should be treated as pseudo-code - and you may have to debug this code to get it working adequately.\n",
        "\n",
        "In this notebook, we only access the labeled portion of the training dataset, and directly run/train/fit supervised methods. e.g., Multinomial Naive Bayes and Linear SGD classifiers (linear SGD [https://scikit-learn.org/stable/modules/generated/sklearn.linear_model.SGDClassifier.html] implements regularized linear models with stochastic gradient descent, e.g., by choosing loss=‘log_loss’, you obtain a logistic regression classifier), on only this labeled portion of the training dataset. The performance values you get from running this experiment will serve as your baseline.\n",
        "\n",
        "Once you have these baseline numbers for the configuration of preprocessing and supervised methods you choose (ideally at least 2 preprocessing methods and also at least 2 supervised methods), you can now begin working on Part 1: i.e. using unsupervised learning methods to automate adding labels to the unlabelled portion of the train dataset. The goal is to see if adding these newly labeled data examples to the train set will improve the baseline numbers you obtained (i.e. Part 2: running the supervised methods you chose for the baseline on the newly augmented dataset and reporting the performance on this augmented dataset).\n",
        "\n",
        "Lastly, please note that there is a class imbalance in the train, test, and val sets. You will have to incorporate an approach to deal with this."
      ]
    },
    {
      "cell_type": "code",
      "execution_count": 2,
      "metadata": {
        "colab": {
          "base_uri": "https://localhost:8080/"
        },
        "id": "s0DBGcZfs0FJ",
        "outputId": "d626fbee-7fda-45d0-ebd1-6ed986610bb2"
      },
      "outputs": [],
      "source": [
        "# e.g. if using google colab import drive, uncomment lines below\n",
        "#from google.colab import drive\n",
        "#drive.mount('/content/drive')"
      ]
    },
    {
      "cell_type": "code",
      "execution_count": 3,
      "metadata": {
        "id": "LX0ia6JVtFjr"
      },
      "outputs": [],
      "source": [
        "# import packages\n",
        "\n",
        "import os\n",
        "import sklearn\n",
        "import numpy as np\n",
        "import pandas as pd\n",
        "from matplotlib import pyplot as plt\n",
        "\n",
        "from sklearn.linear_model import LinearRegression as sk_OLS\n",
        "from sklearn.compose import ColumnTransformer\n",
        "from sklearn.preprocessing import OneHotEncoder\n",
        "from sklearn.model_selection import train_test_split\n",
        "\n",
        "import torch\n",
        "import torch.nn.functional as F\n",
        "import math\n",
        "\n",
        "from sklearn.metrics import r2_score\n",
        "import string\n",
        "import nltk\n",
        "from nltk.corpus import stopwords\n",
        "from nltk.corpus import wordnet as wn\n",
        "from nltk.stem import WordNetLemmatizer, PorterStemmer\n",
        "import re\n",
        "from collections import Counter\n",
        "from sklearn.feature_extraction.text import CountVectorizer, TfidfVectorizer, TfidfTransformer\n",
        "from sklearn.linear_model import LogisticRegression"
      ]
    },
    {
      "cell_type": "markdown",
      "metadata": {
        "id": "mD0dQabauB7z"
      },
      "source": [
        "## Download the data"
      ]
    },
    {
      "cell_type": "code",
      "execution_count": 4,
      "metadata": {
        "id": "uRBDrBxYtBbk"
      },
      "outputs": [],
      "source": [
        "train_data = pd.read_csv('train.csv')\n",
        "val_data = pd.read_csv('val.csv')\n",
        "test_data = pd.read_csv('test.csv')"
      ]
    },
    {
      "cell_type": "code",
      "execution_count": 5,
      "metadata": {
        "colab": {
          "base_uri": "https://localhost:8080/"
        },
        "id": "COVSCAfadeb2",
        "outputId": "98ef4bf3-943e-461c-e13c-4f6fe1fad5e1"
      },
      "outputs": [
        {
          "name": "stdout",
          "output_type": "stream",
          "text": [
            "Train Data Shape: (59706,)\n",
            "Cleaned Train Data Shape: (24758,)\n",
            "Validation Data Shape: (23256,)\n",
            "Test Data Shape: (23257,)\n",
            " \n",
            "Number of labels = 0 in train dataset as percentage: 8.33%\n",
            "Number of labels = 1 in train dataset as percentage: 8.95%\n",
            "Number of labels = 2 in train dataset as percentage: 5.33%\n",
            "Number of labels = 3 in train dataset as percentage: 9.60%\n",
            "Number of labels = 4 in train dataset as percentage: 9.26%\n",
            "Number of labels = -100 in train dataset as percentage: 58.53%\n",
            " \n",
            "Number of labels = 0 in val dataset as percentage: 19.63%\n",
            "Number of labels = 1 in val dataset as percentage: 20.27%\n",
            "Number of labels = 2 in val dataset as percentage: 20.42%\n",
            "Number of labels = 3 in val dataset as percentage: 19.81%\n",
            "Number of labels = 4 in val dataset as percentage: 19.88%\n",
            "Number of labels = -100 in val dataset as percentage: 0.00%\n"
          ]
        }
      ],
      "source": [
        "# get all train data (labelled and unlabelled)\n",
        "X_train    = train_data['Phrase']\n",
        "y_train    = train_data['Sentiment']\n",
        "\n",
        "# get only labelled train data\n",
        "mask = (y_train != -100)\n",
        "train_data_clean    = train_data[mask]\n",
        "X_train_clean    = X_train[mask]\n",
        "y_train_clean    = y_train[mask]\n",
        "\n",
        "# get val data\n",
        "X_val    = val_data['Phrase']\n",
        "y_val    = val_data['Sentiment']\n",
        "\n",
        "# get test data\n",
        "X_test     = test_data['Phrase']\n",
        "\n",
        "print(f\"Train Data Shape: {X_train.shape}\")\n",
        "print(f\"Cleaned Train Data Shape: {train_data_clean['Phrase'].shape}\")\n",
        "print(f\"Validation Data Shape: {X_val.shape}\")\n",
        "print(f\"Test Data Shape: {X_test.shape}\")\n",
        "\n",
        "print(\" \")\n",
        "print(f\"Number of labels = 0 in train dataset as percentage: {((y_train == 0).sum() / (X_train.shape[0])) * 100:0.2f}%\")\n",
        "print(f\"Number of labels = 1 in train dataset as percentage: {((y_train == 1).sum() / (X_train.shape[0])) * 100:0.2f}%\")\n",
        "print(f\"Number of labels = 2 in train dataset as percentage: {((y_train == 2).sum() / (X_train.shape[0])) * 100:0.2f}%\")\n",
        "print(f\"Number of labels = 3 in train dataset as percentage: {((y_train == 3).sum() / (X_train.shape[0])) * 100:0.2f}%\")\n",
        "print(f\"Number of labels = 4 in train dataset as percentage: {((y_train == 4).sum() / (X_train.shape[0])) * 100:0.2f}%\")\n",
        "print(f\"Number of labels = -100 in train dataset as percentage: {((y_train == -100).sum() / (X_train.shape[0])) * 100:0.2f}%\")\n",
        "\n",
        "print(\" \")\n",
        "print(f\"Number of labels = 0 in val dataset as percentage: {((y_val == 0).sum() / (X_val.shape[0])) * 100:0.2f}%\")\n",
        "print(f\"Number of labels = 1 in val dataset as percentage: {((y_val == 1).sum() / (X_val.shape[0])) * 100:0.2f}%\")\n",
        "print(f\"Number of labels = 2 in val dataset as percentage: {((y_val == 2).sum() / (X_val.shape[0])) * 100:0.2f}%\")\n",
        "print(f\"Number of labels = 3 in val dataset as percentage: {((y_val == 3).sum() / (X_val.shape[0])) * 100:0.2f}%\")\n",
        "print(f\"Number of labels = 4 in val dataset as percentage: {((y_val == 4).sum() / (X_val.shape[0])) * 100:0.2f}%\")\n",
        "print(f\"Number of labels = -100 in val dataset as percentage: {((y_val == -100).sum() / (X_val.shape[0])) * 100:0.2f}%\")"
      ]
    },
    {
      "cell_type": "markdown",
      "metadata": {
        "id": "0Xlccu-qCz18"
      },
      "source": [
        "# Define Preprocessing Helper Functions"
      ]
    },
    {
      "cell_type": "code",
      "execution_count": 6,
      "metadata": {
        "colab": {
          "base_uri": "https://localhost:8080/"
        },
        "id": "v5v2_Ro6ca5I",
        "outputId": "efd0ad1b-a203-4b8a-a8a0-36946906f7b7"
      },
      "outputs": [
        {
          "name": "stderr",
          "output_type": "stream",
          "text": [
            "[nltk_data] Downloading package averaged_perceptron_tagger to\n",
            "[nltk_data]     /Users/emilygelchie/nltk_data...\n",
            "[nltk_data]   Package averaged_perceptron_tagger is already up-to-\n",
            "[nltk_data]       date!\n",
            "[nltk_data] Downloading package punkt to\n",
            "[nltk_data]     /Users/emilygelchie/nltk_data...\n",
            "[nltk_data]   Package punkt is already up-to-date!\n",
            "[nltk_data] Downloading package wordnet to\n",
            "[nltk_data]     /Users/emilygelchie/nltk_data...\n",
            "[nltk_data]   Package wordnet is already up-to-date!\n"
          ]
        }
      ],
      "source": [
        "nltk.download('averaged_perceptron_tagger')\n",
        "nltk.download('punkt')\n",
        "nltk.download('wordnet')\n",
        "\n",
        "def clean(text):\n",
        "    text = re.sub(r'^https?:\\/\\/.*[\\r\\n]*', '', str(text), flags=re.MULTILINE)\n",
        "    texter = re.sub(r\"<br />\", \" \", text)\n",
        "    texter = re.sub(r\"&quot;\", \"\\\"\",texter)\n",
        "    texter = re.sub('&#39;', \"\\\"\", texter)\n",
        "    texter = re.sub('\\n', \" \", texter)\n",
        "    texter = re.sub(' u ',\" you \", texter)\n",
        "    texter = re.sub('`',\"\", texter)\n",
        "    texter = re.sub(' +', ' ', texter)\n",
        "    texter = re.sub(r\"(!)\\1+\", r\"!\", texter)\n",
        "    texter = re.sub(r\"(\\?)\\1+\", r\"?\", texter)\n",
        "    texter = re.sub('&amp;', 'and', texter)\n",
        "    texter = re.sub('\\r', ' ',texter)\n",
        "    #added substitutions\n",
        "\n",
        "    #***********added substitutions***********\n",
        "    # remove all the special characters\n",
        "    texter = re.sub(r'\\W', ' ', texter)\n",
        "    # remove all single characters\n",
        "    texter = re.sub(r'\\s+[a-zA-Z]\\s+', ' ', texter)\n",
        "    # Remove single characters from the start\n",
        "    texter = re.sub(r'\\^[a-zA-Z]\\s+', ' ', texter)\n",
        "    # Remove numbers\n",
        "    texter = re.sub(r'\\d+', ' ', texter)\n",
        "    # Converting to Lowercase\n",
        "    texter = texter.lower()\n",
        "    # Remove punctuation\n",
        "    texter = re.sub(r'[^\\w\\s]', ' ', texter)\n",
        "    # Remove parentheses\n",
        "    texter = re.sub(r'\\([^)]*\\)', ' ', texter)\n",
        "    # Remove single quotes\n",
        "    texter = re.sub(r'\\'', ' ', texter)\n",
        "    # Substituting multiple spaces with single space\n",
        "    texter = re.sub(r'\\s+', ' ', texter, flags=re.I)\n",
        "\n",
        "    clean = re.compile('<.*?>')\n",
        "    texter = texter.encode('ascii', 'ignore').decode('ascii')\n",
        "    texter = re.sub(clean, '', texter)\n",
        "    if texter == \"\":\n",
        "        texter = \"\"\n",
        "    return texter\n",
        "\n",
        "def clean_dataset(dataset):\n",
        "    for row in range(dataset.shape[0]):\n",
        "        dataset[row,0] = clean(dataset[row,0])\n",
        "    return dataset\n",
        "\n",
        "def tokenize_lexicon(texts):\n",
        "    return_texts = []\n",
        "    for i in range(len(texts)):\n",
        "        return_texts.append(nltk.word_tokenize(texts[i]))\n",
        "        return_texts[i] = nltk.pos_tag(return_texts[i])\n",
        "    return return_texts\n",
        "\n",
        "def get_wordnet_pos(pos_tag):\n",
        "    if pos_tag.startswith('J'):\n",
        "        return wn.ADJ\n",
        "    elif pos_tag.startswith('V'):\n",
        "        return wn.VERB\n",
        "    elif pos_tag.startswith('N'):\n",
        "        return wn.NOUN\n",
        "    elif pos_tag.startswith('R'):\n",
        "        return wn.ADV\n",
        "    else:\n",
        "        return wn.NOUN\n",
        "\n",
        "def lemmatize_texts(texts):\n",
        "    return_texts = []\n",
        "    lemmer = nltk.stem.WordNetLemmatizer()\n",
        "    for i in range(len(texts)):\n",
        "        return_texts.append([])\n",
        "        for j in range(len(texts[i])):\n",
        "                return_texts[i].append(lemmer.lemmatize(texts[i][j][0], pos=get_wordnet_pos(texts[i][j][1])))\n",
        "    return return_texts\n",
        "\n",
        "def stem_texts(texts):\n",
        "    return_texts = []\n",
        "    ps = PorterStemmer()\n",
        "    for i in range(len(texts)):\n",
        "        return_texts.append([])\n",
        "        for j in range(len(texts[i])):\n",
        "                return_texts[i].append(ps.stem(texts[i][j][0]))\n",
        "    return return_texts\n",
        "\n",
        "\n",
        "def backtostring(texts):\n",
        "    return_texts = []\n",
        "    for i in range(len(texts)):\n",
        "        return_texts.append(\" \".join(texts[i]))\n",
        "    return return_texts"
      ]
    },
    {
      "cell_type": "markdown",
      "metadata": {
        "id": "h_XKPAT4grMt"
      },
      "source": [
        "# Preprocess using Bag of Words"
      ]
    },
    {
      "cell_type": "code",
      "execution_count": 7,
      "metadata": {
        "colab": {
          "base_uri": "https://localhost:8080/"
        },
        "id": "wWpMOdJ2uipq",
        "outputId": "426663c2-bce6-484a-9129-a6361491ca21"
      },
      "outputs": [
        {
          "name": "stderr",
          "output_type": "stream",
          "text": [
            "[nltk_data] Downloading package stopwords to\n",
            "[nltk_data]     /Users/emilygelchie/nltk_data...\n",
            "[nltk_data]   Package stopwords is already up-to-date!\n",
            "[nltk_data] Downloading package wordnet to\n",
            "[nltk_data]     /Users/emilygelchie/nltk_data...\n",
            "[nltk_data]   Package wordnet is already up-to-date!\n",
            "[nltk_data] Downloading package stopwords to\n",
            "[nltk_data]     /Users/emilygelchie/nltk_data...\n",
            "[nltk_data]   Package stopwords is already up-to-date!\n",
            "[nltk_data] Downloading package wordnet to\n",
            "[nltk_data]     /Users/emilygelchie/nltk_data...\n",
            "[nltk_data]   Package wordnet is already up-to-date!\n",
            "[nltk_data] Downloading package stopwords to\n",
            "[nltk_data]     /Users/emilygelchie/nltk_data...\n",
            "[nltk_data]   Package stopwords is already up-to-date!\n",
            "[nltk_data] Downloading package wordnet to\n",
            "[nltk_data]     /Users/emilygelchie/nltk_data...\n",
            "[nltk_data]   Package wordnet is already up-to-date!\n",
            "[nltk_data] Downloading package stopwords to\n",
            "[nltk_data]     /Users/emilygelchie/nltk_data...\n",
            "[nltk_data]   Package stopwords is already up-to-date!\n",
            "[nltk_data] Downloading package wordnet to\n",
            "[nltk_data]     /Users/emilygelchie/nltk_data...\n",
            "[nltk_data]   Package wordnet is already up-to-date!\n"
          ]
        }
      ],
      "source": [
        "def pre_process(data):\n",
        "    preproc_data = data.copy()\n",
        "    preproc_data = preproc_data.str.lower()\n",
        "    punctuation = string.punctuation\n",
        "    mapping = str.maketrans(\"\", \"\", punctuation)\n",
        "    preproc_data = preproc_data.str.translate(mapping)\n",
        "    nltk.download('stopwords')\n",
        "    stop_words = set(stopwords.words('english'))\n",
        "    preproc_data = preproc_data.apply(lambda text: ' '.join([word for word in str(text).split() if word.lower() not in stop_words]))\n",
        "    nltk.download('wordnet')\n",
        "    lemmatizer = WordNetLemmatizer()\n",
        "    preproc_data = preproc_data.apply(lambda text: ' '.join([lemmatizer.lemmatize(word) for word in text.split()]))\n",
        "    preproc_data = preproc_data.apply(lambda text: re.sub(r'@\\w+', '', re.sub(r'http\\S+|www\\S+', '', text)))\n",
        "    return preproc_data\n",
        "\n",
        "# get the preprocessed data\n",
        "X_train_preproc   = pre_process(X_train)\n",
        "X_train_clean_preproc   = pre_process(X_train_clean)\n",
        "X_val_preproc = pre_process(X_val)\n",
        "X_test_preproc = pre_process(X_test)"
      ]
    },
    {
      "cell_type": "markdown",
      "metadata": {
        "id": "5GhiuEjdumEO"
      },
      "source": [
        "Bag of words model"
      ]
    },
    {
      "cell_type": "code",
      "execution_count": 8,
      "metadata": {
        "id": "-ES4zksi-z2J"
      },
      "outputs": [],
      "source": [
        "combined_data = pd.concat([X_train_preproc, X_val_preproc, X_test_preproc])"
      ]
    },
    {
      "cell_type": "code",
      "execution_count": 9,
      "metadata": {
        "colab": {
          "base_uri": "https://localhost:8080/",
          "height": 564
        },
        "id": "sdBuYWZ1-knR",
        "outputId": "a65f7aa1-beda-4c87-c742-d8dec0d832b8"
      },
      "outputs": [
        {
          "data": {
            "image/png": "[encoded data removed]",
            "text/plain": [
              "<Figure size 1000x600 with 1 Axes>"
            ]
          },
          "metadata": {},
          "output_type": "display_data"
        }
      ],
      "source": [
        "text_data = combined_data\n",
        "words = ' '.join(text_data).split()\n",
        "word_freq_dict = Counter(words)\n",
        "\n",
        "word_frequencies = list(word_freq_dict.values())\n",
        "\n",
        "plt.figure(figsize=(10, 6))\n",
        "plt.hist(word_frequencies, bins=55, color='skyblue', edgecolor='black')\n",
        "plt.xlabel('Word Frequency')\n",
        "plt.ylabel('Number of Words that show up X times')\n",
        "plt.title('Distribution of Word Frequencies')\n",
        "plt.grid(True)\n",
        "plt.show()"
      ]
    },
    {
      "cell_type": "code",
      "execution_count": 10,
      "metadata": {
        "id": "fD4ZzrPQuo7B"
      },
      "outputs": [],
      "source": [
        "def bag_of_word(data,  threshold_M):\n",
        "    vectorizer = CountVectorizer(binary=True, max_features= threshold_M)\n",
        "    vectorizer.fit(combined_data)\n",
        "    X = vectorizer.transform(data)\n",
        "    featurized_data = pd.DataFrame(X.toarray(), columns = vectorizer.get_feature_names_out())\n",
        "    return featurized_data\n",
        "\n",
        "# get the featurized data\n",
        "X_train   = bag_of_word(X_train_preproc, 8)\n",
        "X_train_clean = bag_of_word(X_train_clean_preproc, 8)\n",
        "X_val = bag_of_word(X_val_preproc, 8)\n",
        "X_test = bag_of_word(X_test_preproc, 8)"
      ]
    },
    {
      "cell_type": "markdown",
      "metadata": {
        "id": "l6o6quWYA4dm"
      },
      "source": [
        "Sklearn Multinomial NB"
      ]
    },
    {
      "cell_type": "code",
      "execution_count": 11,
      "metadata": {
        "id": "VSmj-gV0ES9I"
      },
      "outputs": [],
      "source": [
        "from sklearn.naive_bayes import MultinomialNB\n",
        "from sklearn.metrics import accuracy_score\n",
        "\n",
        "clf = MultinomialNB(alpha=1e-3)\n",
        "clf.fit(X_train_clean, y_train_clean)\n",
        "sk_y = clf.predict(X_val)"
      ]
    },
    {
      "cell_type": "code",
      "execution_count": 12,
      "metadata": {
        "colab": {
          "base_uri": "https://localhost:8080/"
        },
        "id": "GwgerXc2HPeP",
        "outputId": "e6051efa-4911-4ef5-ba63-fcd68096a715"
      },
      "outputs": [
        {
          "name": "stdout",
          "output_type": "stream",
          "text": [
            "Number of labels = 0 in val dataset as percentage: 4.11%\n",
            "Number of labels = 1 in val dataset as percentage: 11.18%\n",
            "Number of labels = 2 in val dataset as percentage: 7.80%\n",
            "Number of labels = 3 in val dataset as percentage: 71.02%\n",
            "Number of labels = 4 in val dataset as percentage: 5.89%\n"
          ]
        }
      ],
      "source": [
        "print(f\"Number of labels = 0 in val dataset as percentage: {((sk_y == 0).sum() / (X_val.shape[0])) * 100:0.2f}%\")\n",
        "print(f\"Number of labels = 1 in val dataset as percentage: {((sk_y == 1).sum() / (X_val.shape[0])) * 100:0.2f}%\")\n",
        "print(f\"Number of labels = 2 in val dataset as percentage: {((sk_y == 2).sum() / (X_val.shape[0])) * 100:0.2f}%\")\n",
        "print(f\"Number of labels = 3 in val dataset as percentage: {((sk_y == 3).sum() / (X_val.shape[0])) * 100:0.2f}%\")\n",
        "print(f\"Number of labels = 4 in val dataset as percentage: {((sk_y == 4).sum() / (X_val.shape[0])) * 100:0.2f}%\")"
      ]
    },
    {
      "cell_type": "markdown",
      "metadata": {
        "id": "X71WprhUHBe_"
      },
      "source": [
        "Sklearn Linear SGD Classifier"
      ]
    },
    {
      "cell_type": "code",
      "execution_count": 13,
      "metadata": {
        "colab": {
          "base_uri": "https://localhost:8080/"
        },
        "id": "t8Zpe4FRF32u",
        "outputId": "b0c5d73c-58d3-4980-ffb8-cae3fa1bd835"
      },
      "outputs": [
        {
          "name": "stdout",
          "output_type": "stream",
          "text": [
            "Accuracy:  0.2819487444100447\n"
          ]
        }
      ],
      "source": [
        "from sklearn.linear_model import SGDClassifier\n",
        "from sklearn.metrics import accuracy_score\n",
        "\n",
        "clf_sgd = SGDClassifier(loss='hinge', penalty='l2',alpha=1e-5, random_state=42)\n",
        "clf_sgd.fit(X_train_clean, y_train_clean)\n",
        "y_pred = clf_sgd.predict(X_val)\n",
        "# print(\"Feature Count \\n\",clf_sgd.feature_count_)\n",
        "# print(\"Class Log Prior \",clf_sgd.class_log_prior_)\n",
        "print('Accuracy: ', accuracy_score(y_val, y_pred))\n",
        "# print(clf_sgd.predict_proba(X_test))"
      ]
    },
    {
      "cell_type": "code",
      "execution_count": 14,
      "metadata": {
        "colab": {
          "base_uri": "https://localhost:8080/"
        },
        "id": "6wDYD96AGxom",
        "outputId": "3e8898ff-9863-448a-8339-2bed7ed40213"
      },
      "outputs": [
        {
          "name": "stdout",
          "output_type": "stream",
          "text": [
            "Number of labels = 0 in val dataset as percentage: 0.01%\n",
            "Number of labels = 1 in val dataset as percentage: 0.16%\n",
            "Number of labels = 2 in val dataset as percentage: 7.90%\n",
            "Number of labels = 3 in val dataset as percentage: 83.31%\n",
            "Number of labels = 4 in val dataset as percentage: 8.62%\n"
          ]
        }
      ],
      "source": [
        "print(f\"Number of labels = 0 in val dataset as percentage: {((y_pred == 0).sum() / (X_val.shape[0])) * 100:0.2f}%\")\n",
        "print(f\"Number of labels = 1 in val dataset as percentage: {((y_pred == 1).sum() / (X_val.shape[0])) * 100:0.2f}%\")\n",
        "print(f\"Number of labels = 2 in val dataset as percentage: {((y_pred == 2).sum() / (X_val.shape[0])) * 100:0.2f}%\")\n",
        "print(f\"Number of labels = 3 in val dataset as percentage: {((y_pred == 3).sum() / (X_val.shape[0])) * 100:0.2f}%\")\n",
        "print(f\"Number of labels = 4 in val dataset as percentage: {((y_pred == 4).sum() / (X_val.shape[0])) * 100:0.2f}%\")"
      ]
    },
    {
      "cell_type": "markdown",
      "metadata": {
        "id": "BSQOZqupuKGO"
      },
      "source": [
        "# Preprocess the data using CountVectorizer, nltk stem"
      ]
    },
    {
      "cell_type": "code",
      "execution_count": 17,
      "metadata": {
        "colab": {
          "base_uri": "https://localhost:8080/"
        },
        "id": "-4LDKgHgiMpa",
        "outputId": "504677a3-1002-4e74-ea37-394029211845"
      },
      "outputs": [
        {
          "name": "stderr",
          "output_type": "stream",
          "text": [
            "[nltk_data] Downloading collection 'all'\n",
            "[nltk_data]    | \n",
            "[nltk_data]    | Downloading package abc to\n",
            "[nltk_data]    |     /Users/emilygelchie/nltk_data...\n",
            "[nltk_data]    |   Unzipping corpora/abc.zip.\n",
            "[nltk_data]    | Downloading package alpino to\n",
            "[nltk_data]    |     /Users/emilygelchie/nltk_data...\n",
            "[nltk_data]    |   Unzipping corpora/alpino.zip.\n",
            "[nltk_data]    | Downloading package averaged_perceptron_tagger to\n",
            "[nltk_data]    |     /Users/emilygelchie/nltk_data...\n",
            "[nltk_data]    |   Package averaged_perceptron_tagger is already up-\n",
            "[nltk_data]    |       to-date!\n",
            "[nltk_data]    | Downloading package averaged_perceptron_tagger_eng to\n",
            "[nltk_data]    |     /Users/emilygelchie/nltk_data...\n",
            "[nltk_data]    |   Unzipping\n",
            "[nltk_data]    |       taggers/averaged_perceptron_tagger_eng.zip.\n",
            "[nltk_data]    | Downloading package averaged_perceptron_tagger_ru to\n",
            "[nltk_data]    |     /Users/emilygelchie/nltk_data...\n",
            "[nltk_data]    |   Unzipping\n",
            "[nltk_data]    |       taggers/averaged_perceptron_tagger_ru.zip.\n",
            "[nltk_data]    | Downloading package averaged_perceptron_tagger_rus to\n",
            "[nltk_data]    |     /Users/emilygelchie/nltk_data...\n",
            "[nltk_data]    |   Unzipping\n",
            "[nltk_data]    |       taggers/averaged_perceptron_tagger_rus.zip.\n",
            "[nltk_data]    | Downloading package basque_grammars to\n",
            "[nltk_data]    |     /Users/emilygelchie/nltk_data...\n",
            "[nltk_data]    |   Unzipping grammars/basque_grammars.zip.\n",
            "[nltk_data]    | Downloading package bcp47 to\n",
            "[nltk_data]    |     /Users/emilygelchie/nltk_data...\n",
            "[nltk_data]    | Downloading package biocreative_ppi to\n",
            "[nltk_data]    |     /Users/emilygelchie/nltk_data...\n",
            "[nltk_data]    |   Unzipping corpora/biocreative_ppi.zip.\n",
            "[nltk_data]    | Downloading package bllip_wsj_no_aux to\n",
            "[nltk_data]    |     /Users/emilygelchie/nltk_data...\n",
            "[nltk_data]    |   Unzipping models/bllip_wsj_no_aux.zip.\n",
            "[nltk_data]    | Downloading package book_grammars to\n",
            "[nltk_data]    |     /Users/emilygelchie/nltk_data...\n",
            "[nltk_data]    |   Unzipping grammars/book_grammars.zip.\n",
            "[nltk_data]    | Downloading package brown to\n",
            "[nltk_data]    |     /Users/emilygelchie/nltk_data...\n",
            "[nltk_data]    |   Unzipping corpora/brown.zip.\n",
            "[nltk_data]    | Downloading package brown_tei to\n",
            "[nltk_data]    |     /Users/emilygelchie/nltk_data...\n",
            "[nltk_data]    |   Unzipping corpora/brown_tei.zip.\n",
            "[nltk_data]    | Downloading package cess_cat to\n",
            "[nltk_data]    |     /Users/emilygelchie/nltk_data...\n",
            "[nltk_data]    |   Unzipping corpora/cess_cat.zip.\n",
            "[nltk_data]    | Downloading package cess_esp to\n",
            "[nltk_data]    |     /Users/emilygelchie/nltk_data...\n",
            "[nltk_data]    |   Unzipping corpora/cess_esp.zip.\n",
            "[nltk_data]    | Downloading package chat80 to\n",
            "[nltk_data]    |     /Users/emilygelchie/nltk_data...\n",
            "[nltk_data]    |   Unzipping corpora/chat80.zip.\n",
            "[nltk_data]    | Downloading package city_database to\n",
            "[nltk_data]    |     /Users/emilygelchie/nltk_data...\n",
            "[nltk_data]    |   Unzipping corpora/city_database.zip.\n",
            "[nltk_data]    | Downloading package cmudict to\n",
            "[nltk_data]    |     /Users/emilygelchie/nltk_data...\n",
            "[nltk_data]    |   Unzipping corpora/cmudict.zip.\n",
            "[nltk_data]    | Downloading package comparative_sentences to\n",
            "[nltk_data]    |     /Users/emilygelchie/nltk_data...\n",
            "[nltk_data]    |   Unzipping corpora/comparative_sentences.zip.\n",
            "[nltk_data]    | Downloading package comtrans to\n",
            "[nltk_data]    |     /Users/emilygelchie/nltk_data...\n",
            "[nltk_data]    | Downloading package conll2000 to\n",
            "[nltk_data]    |     /Users/emilygelchie/nltk_data...\n",
            "[nltk_data]    |   Unzipping corpora/conll2000.zip.\n",
            "[nltk_data]    | Downloading package conll2002 to\n",
            "[nltk_data]    |     /Users/emilygelchie/nltk_data...\n",
            "[nltk_data]    |   Unzipping corpora/conll2002.zip.\n",
            "[nltk_data]    | Downloading package conll2007 to\n",
            "[nltk_data]    |     /Users/emilygelchie/nltk_data...\n",
            "[nltk_data]    | Downloading package crubadan to\n",
            "[nltk_data]    |     /Users/emilygelchie/nltk_data...\n",
            "[nltk_data]    |   Unzipping corpora/crubadan.zip.\n",
            "[nltk_data]    | Downloading package dependency_treebank to\n",
            "[nltk_data]    |     /Users/emilygelchie/nltk_data...\n",
            "[nltk_data]    |   Unzipping corpora/dependency_treebank.zip.\n",
            "[nltk_data]    | Downloading package dolch to\n",
            "[nltk_data]    |     /Users/emilygelchie/nltk_data...\n",
            "[nltk_data]    |   Unzipping corpora/dolch.zip.\n",
            "[nltk_data]    | Downloading package europarl_raw to\n",
            "[nltk_data]    |     /Users/emilygelchie/nltk_data...\n",
            "[nltk_data]    |   Unzipping corpora/europarl_raw.zip.\n",
            "[nltk_data]    | Downloading package extended_omw to\n",
            "[nltk_data]    |     /Users/emilygelchie/nltk_data...\n",
            "[nltk_data]    | Downloading package floresta to\n",
            "[nltk_data]    |     /Users/emilygelchie/nltk_data...\n",
            "[nltk_data]    |   Unzipping corpora/floresta.zip.\n",
            "[nltk_data]    | Downloading package framenet_v15 to\n",
            "[nltk_data]    |     /Users/emilygelchie/nltk_data...\n",
            "[nltk_data]    |   Unzipping corpora/framenet_v15.zip.\n",
            "[nltk_data]    | Downloading package framenet_v17 to\n",
            "[nltk_data]    |     /Users/emilygelchie/nltk_data...\n",
            "[nltk_data]    |   Unzipping corpora/framenet_v17.zip.\n",
            "[nltk_data]    | Downloading package gazetteers to\n",
            "[nltk_data]    |     /Users/emilygelchie/nltk_data...\n",
            "[nltk_data]    |   Unzipping corpora/gazetteers.zip.\n",
            "[nltk_data]    | Downloading package genesis to\n",
            "[nltk_data]    |     /Users/emilygelchie/nltk_data...\n",
            "[nltk_data]    |   Unzipping corpora/genesis.zip.\n",
            "[nltk_data]    | Downloading package gutenberg to\n",
            "[nltk_data]    |     /Users/emilygelchie/nltk_data...\n",
            "[nltk_data]    |   Unzipping corpora/gutenberg.zip.\n",
            "[nltk_data]    | Downloading package ieer to\n",
            "[nltk_data]    |     /Users/emilygelchie/nltk_data...\n",
            "[nltk_data]    |   Unzipping corpora/ieer.zip.\n",
            "[nltk_data]    | Downloading package inaugural to\n",
            "[nltk_data]    |     /Users/emilygelchie/nltk_data...\n",
            "[nltk_data]    |   Unzipping corpora/inaugural.zip.\n",
            "[nltk_data]    | Downloading package indian to\n",
            "[nltk_data]    |     /Users/emilygelchie/nltk_data...\n",
            "[nltk_data]    |   Unzipping corpora/indian.zip.\n",
            "[nltk_data]    | Downloading package jeita to\n",
            "[nltk_data]    |     /Users/emilygelchie/nltk_data...\n",
            "[nltk_data]    | Downloading package kimmo to\n",
            "[nltk_data]    |     /Users/emilygelchie/nltk_data...\n",
            "[nltk_data]    |   Unzipping corpora/kimmo.zip.\n",
            "[nltk_data]    | Downloading package knbc to\n",
            "[nltk_data]    |     /Users/emilygelchie/nltk_data...\n",
            "[nltk_data]    | Downloading package large_grammars to\n",
            "[nltk_data]    |     /Users/emilygelchie/nltk_data...\n",
            "[nltk_data]    |   Unzipping grammars/large_grammars.zip.\n",
            "[nltk_data]    | Downloading package lin_thesaurus to\n",
            "[nltk_data]    |     /Users/emilygelchie/nltk_data...\n",
            "[nltk_data]    |   Unzipping corpora/lin_thesaurus.zip.\n",
            "[nltk_data]    | Downloading package mac_morpho to\n",
            "[nltk_data]    |     /Users/emilygelchie/nltk_data...\n",
            "[nltk_data]    |   Unzipping corpora/mac_morpho.zip.\n",
            "[nltk_data]    | Downloading package machado to\n",
            "[nltk_data]    |     /Users/emilygelchie/nltk_data...\n",
            "[nltk_data]    | Downloading package masc_tagged to\n",
            "[nltk_data]    |     /Users/emilygelchie/nltk_data...\n",
            "[nltk_data]    | Downloading package maxent_ne_chunker to\n",
            "[nltk_data]    |     /Users/emilygelchie/nltk_data...\n",
            "[nltk_data]    |   Unzipping chunkers/maxent_ne_chunker.zip.\n",
            "[nltk_data]    | Downloading package maxent_ne_chunker_tab to\n",
            "[nltk_data]    |     /Users/emilygelchie/nltk_data...\n",
            "[nltk_data]    |   Unzipping chunkers/maxent_ne_chunker_tab.zip.\n",
            "[nltk_data]    | Downloading package maxent_treebank_pos_tagger to\n",
            "[nltk_data]    |     /Users/emilygelchie/nltk_data...\n",
            "[nltk_data]    |   Unzipping taggers/maxent_treebank_pos_tagger.zip.\n",
            "[nltk_data]    | Downloading package maxent_treebank_pos_tagger_tab to\n",
            "[nltk_data]    |     /Users/emilygelchie/nltk_data...\n",
            "[nltk_data]    |   Unzipping\n",
            "[nltk_data]    |       taggers/maxent_treebank_pos_tagger_tab.zip.\n",
            "[nltk_data]    | Downloading package moses_sample to\n",
            "[nltk_data]    |     /Users/emilygelchie/nltk_data...\n",
            "[nltk_data]    |   Unzipping models/moses_sample.zip.\n",
            "[nltk_data]    | Downloading package movie_reviews to\n",
            "[nltk_data]    |     /Users/emilygelchie/nltk_data...\n",
            "[nltk_data]    |   Unzipping corpora/movie_reviews.zip.\n",
            "[nltk_data]    | Downloading package mte_teip5 to\n",
            "[nltk_data]    |     /Users/emilygelchie/nltk_data...\n",
            "[nltk_data]    |   Unzipping corpora/mte_teip5.zip.\n",
            "[nltk_data]    | Downloading package mwa_ppdb to\n",
            "[nltk_data]    |     /Users/emilygelchie/nltk_data...\n",
            "[nltk_data]    |   Unzipping misc/mwa_ppdb.zip.\n",
            "[nltk_data]    | Downloading package names to\n",
            "[nltk_data]    |     /Users/emilygelchie/nltk_data...\n",
            "[nltk_data]    |   Unzipping corpora/names.zip.\n",
            "[nltk_data]    | Downloading package nombank.1.0 to\n",
            "[nltk_data]    |     /Users/emilygelchie/nltk_data...\n",
            "[nltk_data]    | Downloading package nonbreaking_prefixes to\n",
            "[nltk_data]    |     /Users/emilygelchie/nltk_data...\n",
            "[nltk_data]    |   Unzipping corpora/nonbreaking_prefixes.zip.\n",
            "[nltk_data]    | Downloading package nps_chat to\n",
            "[nltk_data]    |     /Users/emilygelchie/nltk_data...\n",
            "[nltk_data]    |   Unzipping corpora/nps_chat.zip.\n",
            "[nltk_data]    | Downloading package omw to\n",
            "[nltk_data]    |     /Users/emilygelchie/nltk_data...\n",
            "[nltk_data]    | Downloading package omw-1.4 to\n",
            "[nltk_data]    |     /Users/emilygelchie/nltk_data...\n",
            "[nltk_data]    |   Package omw-1.4 is already up-to-date!\n",
            "[nltk_data]    | Downloading package opinion_lexicon to\n",
            "[nltk_data]    |     /Users/emilygelchie/nltk_data...\n",
            "[nltk_data]    |   Unzipping corpora/opinion_lexicon.zip.\n",
            "[nltk_data]    | Downloading package panlex_swadesh to\n",
            "[nltk_data]    |     /Users/emilygelchie/nltk_data...\n",
            "[nltk_data]    | Downloading package paradigms to\n",
            "[nltk_data]    |     /Users/emilygelchie/nltk_data...\n",
            "[nltk_data]    |   Unzipping corpora/paradigms.zip.\n",
            "[nltk_data]    | Downloading package pe08 to\n",
            "[nltk_data]    |     /Users/emilygelchie/nltk_data...\n",
            "[nltk_data]    |   Unzipping corpora/pe08.zip.\n",
            "[nltk_data]    | Downloading package perluniprops to\n",
            "[nltk_data]    |     /Users/emilygelchie/nltk_data...\n",
            "[nltk_data]    |   Unzipping misc/perluniprops.zip.\n",
            "[nltk_data]    | Downloading package pil to\n",
            "[nltk_data]    |     /Users/emilygelchie/nltk_data...\n",
            "[nltk_data]    |   Unzipping corpora/pil.zip.\n",
            "[nltk_data]    | Downloading package pl196x to\n",
            "[nltk_data]    |     /Users/emilygelchie/nltk_data...\n",
            "[nltk_data]    |   Unzipping corpora/pl196x.zip.\n",
            "[nltk_data]    | Downloading package porter_test to\n",
            "[nltk_data]    |     /Users/emilygelchie/nltk_data...\n",
            "[nltk_data]    |   Unzipping stemmers/porter_test.zip.\n",
            "[nltk_data]    | Downloading package ppattach to\n",
            "[nltk_data]    |     /Users/emilygelchie/nltk_data...\n",
            "[nltk_data]    |   Unzipping corpora/ppattach.zip.\n",
            "[nltk_data]    | Downloading package problem_reports to\n",
            "[nltk_data]    |     /Users/emilygelchie/nltk_data...\n",
            "[nltk_data]    |   Unzipping corpora/problem_reports.zip.\n",
            "[nltk_data]    | Downloading package product_reviews_1 to\n",
            "[nltk_data]    |     /Users/emilygelchie/nltk_data...\n",
            "[nltk_data]    |   Unzipping corpora/product_reviews_1.zip.\n",
            "[nltk_data]    | Downloading package product_reviews_2 to\n",
            "[nltk_data]    |     /Users/emilygelchie/nltk_data...\n",
            "[nltk_data]    |   Unzipping corpora/product_reviews_2.zip.\n",
            "[nltk_data]    | Downloading package propbank to\n",
            "[nltk_data]    |     /Users/emilygelchie/nltk_data...\n",
            "[nltk_data]    | Downloading package pros_cons to\n",
            "[nltk_data]    |     /Users/emilygelchie/nltk_data...\n",
            "[nltk_data]    |   Unzipping corpora/pros_cons.zip.\n",
            "[nltk_data]    | Downloading package ptb to\n",
            "[nltk_data]    |     /Users/emilygelchie/nltk_data...\n",
            "[nltk_data]    |   Unzipping corpora/ptb.zip.\n",
            "[nltk_data]    | Downloading package punkt to\n",
            "[nltk_data]    |     /Users/emilygelchie/nltk_data...\n",
            "[nltk_data]    |   Package punkt is already up-to-date!\n",
            "[nltk_data]    | Downloading package punkt_tab to\n",
            "[nltk_data]    |     /Users/emilygelchie/nltk_data...\n",
            "[nltk_data]    |   Package punkt_tab is already up-to-date!\n",
            "[nltk_data]    | Downloading package qc to\n",
            "[nltk_data]    |     /Users/emilygelchie/nltk_data...\n",
            "[nltk_data]    |   Unzipping corpora/qc.zip.\n",
            "[nltk_data]    | Downloading package reuters to\n",
            "[nltk_data]    |     /Users/emilygelchie/nltk_data...\n",
            "[nltk_data]    | Downloading package rslp to\n",
            "[nltk_data]    |     /Users/emilygelchie/nltk_data...\n",
            "[nltk_data]    |   Unzipping stemmers/rslp.zip.\n",
            "[nltk_data]    | Downloading package rte to\n",
            "[nltk_data]    |     /Users/emilygelchie/nltk_data...\n",
            "[nltk_data]    |   Unzipping corpora/rte.zip.\n",
            "[nltk_data]    | Downloading package sample_grammars to\n",
            "[nltk_data]    |     /Users/emilygelchie/nltk_data...\n",
            "[nltk_data]    |   Unzipping grammars/sample_grammars.zip.\n",
            "[nltk_data]    | Downloading package semcor to\n",
            "[nltk_data]    |     /Users/emilygelchie/nltk_data...\n",
            "[nltk_data]    | Downloading package senseval to\n",
            "[nltk_data]    |     /Users/emilygelchie/nltk_data...\n",
            "[nltk_data]    |   Unzipping corpora/senseval.zip.\n",
            "[nltk_data]    | Downloading package sentence_polarity to\n",
            "[nltk_data]    |     /Users/emilygelchie/nltk_data...\n",
            "[nltk_data]    |   Unzipping corpora/sentence_polarity.zip.\n",
            "[nltk_data]    | Downloading package sentiwordnet to\n",
            "[nltk_data]    |     /Users/emilygelchie/nltk_data...\n",
            "[nltk_data]    |   Unzipping corpora/sentiwordnet.zip.\n",
            "[nltk_data]    | Downloading package shakespeare to\n",
            "[nltk_data]    |     /Users/emilygelchie/nltk_data...\n",
            "[nltk_data]    |   Unzipping corpora/shakespeare.zip.\n",
            "[nltk_data]    | Downloading package sinica_treebank to\n",
            "[nltk_data]    |     /Users/emilygelchie/nltk_data...\n",
            "[nltk_data]    |   Unzipping corpora/sinica_treebank.zip.\n",
            "[nltk_data]    | Downloading package smultron to\n",
            "[nltk_data]    |     /Users/emilygelchie/nltk_data...\n",
            "[nltk_data]    |   Unzipping corpora/smultron.zip.\n",
            "[nltk_data]    | Downloading package snowball_data to\n",
            "[nltk_data]    |     /Users/emilygelchie/nltk_data...\n",
            "[nltk_data]    | Downloading package spanish_grammars to\n",
            "[nltk_data]    |     /Users/emilygelchie/nltk_data...\n",
            "[nltk_data]    |   Unzipping grammars/spanish_grammars.zip.\n",
            "[nltk_data]    | Downloading package state_union to\n",
            "[nltk_data]    |     /Users/emilygelchie/nltk_data...\n",
            "[nltk_data]    |   Unzipping corpora/state_union.zip.\n",
            "[nltk_data]    | Downloading package stopwords to\n",
            "[nltk_data]    |     /Users/emilygelchie/nltk_data...\n",
            "[nltk_data]    |   Package stopwords is already up-to-date!\n",
            "[nltk_data]    | Downloading package subjectivity to\n",
            "[nltk_data]    |     /Users/emilygelchie/nltk_data...\n",
            "[nltk_data]    |   Unzipping corpora/subjectivity.zip.\n",
            "[nltk_data]    | Downloading package swadesh to\n",
            "[nltk_data]    |     /Users/emilygelchie/nltk_data...\n",
            "[nltk_data]    |   Unzipping corpora/swadesh.zip.\n",
            "[nltk_data]    | Downloading package switchboard to\n",
            "[nltk_data]    |     /Users/emilygelchie/nltk_data...\n",
            "[nltk_data]    |   Unzipping corpora/switchboard.zip.\n",
            "[nltk_data]    | Downloading package tagsets to\n",
            "[nltk_data]    |     /Users/emilygelchie/nltk_data...\n",
            "[nltk_data]    |   Unzipping help/tagsets.zip.\n",
            "[nltk_data]    | Downloading package tagsets_json to\n",
            "[nltk_data]    |     /Users/emilygelchie/nltk_data...\n",
            "[nltk_data]    |   Unzipping help/tagsets_json.zip.\n",
            "[nltk_data]    | Downloading package timit to\n",
            "[nltk_data]    |     /Users/emilygelchie/nltk_data...\n",
            "[nltk_data]    |   Unzipping corpora/timit.zip.\n",
            "[nltk_data]    | Downloading package toolbox to\n",
            "[nltk_data]    |     /Users/emilygelchie/nltk_data...\n",
            "[nltk_data]    |   Unzipping corpora/toolbox.zip.\n",
            "[nltk_data]    | Downloading package treebank to\n",
            "[nltk_data]    |     /Users/emilygelchie/nltk_data...\n",
            "[nltk_data]    |   Unzipping corpora/treebank.zip.\n",
            "[nltk_data]    | Downloading package twitter_samples to\n",
            "[nltk_data]    |     /Users/emilygelchie/nltk_data...\n",
            "[nltk_data]    |   Unzipping corpora/twitter_samples.zip.\n",
            "[nltk_data]    | Downloading package udhr to\n",
            "[nltk_data]    |     /Users/emilygelchie/nltk_data...\n",
            "[nltk_data]    |   Unzipping corpora/udhr.zip.\n",
            "[nltk_data]    | Downloading package udhr2 to\n",
            "[nltk_data]    |     /Users/emilygelchie/nltk_data...\n",
            "[nltk_data]    |   Unzipping corpora/udhr2.zip.\n",
            "[nltk_data]    | Downloading package unicode_samples to\n",
            "[nltk_data]    |     /Users/emilygelchie/nltk_data...\n",
            "[nltk_data]    |   Unzipping corpora/unicode_samples.zip.\n",
            "[nltk_data]    | Downloading package universal_tagset to\n",
            "[nltk_data]    |     /Users/emilygelchie/nltk_data...\n",
            "[nltk_data]    |   Unzipping taggers/universal_tagset.zip.\n",
            "[nltk_data]    | Downloading package universal_treebanks_v20 to\n",
            "[nltk_data]    |     /Users/emilygelchie/nltk_data...\n",
            "[nltk_data]    | Downloading package vader_lexicon to\n",
            "[nltk_data]    |     /Users/emilygelchie/nltk_data...\n",
            "[nltk_data]    |   Package vader_lexicon is already up-to-date!\n",
            "[nltk_data]    | Downloading package verbnet to\n",
            "[nltk_data]    |     /Users/emilygelchie/nltk_data...\n",
            "[nltk_data]    |   Unzipping corpora/verbnet.zip.\n",
            "[nltk_data]    | Downloading package verbnet3 to\n",
            "[nltk_data]    |     /Users/emilygelchie/nltk_data...\n",
            "[nltk_data]    |   Unzipping corpora/verbnet3.zip.\n",
            "[nltk_data]    | Downloading package webtext to\n",
            "[nltk_data]    |     /Users/emilygelchie/nltk_data...\n",
            "[nltk_data]    |   Unzipping corpora/webtext.zip.\n",
            "[nltk_data]    | Downloading package wmt15_eval to\n",
            "[nltk_data]    |     /Users/emilygelchie/nltk_data...\n",
            "[nltk_data]    |   Unzipping models/wmt15_eval.zip.\n",
            "[nltk_data]    | Downloading package word2vec_sample to\n",
            "[nltk_data]    |     /Users/emilygelchie/nltk_data...\n",
            "[nltk_data]    |   Unzipping models/word2vec_sample.zip.\n",
            "[nltk_data]    | Downloading package wordnet to\n",
            "[nltk_data]    |     /Users/emilygelchie/nltk_data...\n",
            "[nltk_data]    |   Package wordnet is already up-to-date!\n",
            "[nltk_data]    | Downloading package wordnet2021 to\n",
            "[nltk_data]    |     /Users/emilygelchie/nltk_data...\n",
            "[nltk_data]    | Downloading package wordnet2022 to\n",
            "[nltk_data]    |     /Users/emilygelchie/nltk_data...\n",
            "[nltk_data]    |   Unzipping corpora/wordnet2022.zip.\n",
            "[nltk_data]    | Downloading package wordnet31 to\n",
            "[nltk_data]    |     /Users/emilygelchie/nltk_data...\n",
            "[nltk_data]    | Downloading package wordnet_ic to\n",
            "[nltk_data]    |     /Users/emilygelchie/nltk_data...\n",
            "[nltk_data]    |   Unzipping corpora/wordnet_ic.zip.\n",
            "[nltk_data]    | Downloading package words to\n",
            "[nltk_data]    |     /Users/emilygelchie/nltk_data...\n",
            "[nltk_data]    |   Package words is already up-to-date!\n",
            "[nltk_data]    | Downloading package ycoe to\n",
            "[nltk_data]    |     /Users/emilygelchie/nltk_data...\n",
            "[nltk_data]    |   Unzipping corpora/ycoe.zip.\n",
            "[nltk_data]    | \n",
            "[nltk_data]  Done downloading collection all\n",
            "[nltk_data] Downloading package punkt to\n",
            "[nltk_data]     /Users/emilygelchie/nltk_data...\n",
            "[nltk_data]   Package punkt is already up-to-date!\n",
            "[nltk_data] Downloading package punkt_tab to\n",
            "[nltk_data]     /Users/emilygelchie/nltk_data...\n",
            "[nltk_data]   Package punkt_tab is already up-to-date!\n",
            "[nltk_data] Downloading package averaged_perceptron_tagger to\n",
            "[nltk_data]     /Users/emilygelchie/nltk_data...\n",
            "[nltk_data]   Package averaged_perceptron_tagger is already up-to-\n",
            "[nltk_data]       date!\n",
            "[nltk_data] Downloading package wordnet to\n",
            "[nltk_data]     /Users/emilygelchie/nltk_data...\n",
            "[nltk_data]   Package wordnet is already up-to-date!\n"
          ]
        },
        {
          "name": "stdout",
          "output_type": "stream",
          "text": [
            "(24758,)\n",
            "(23256,)\n",
            "(23257,)\n",
            "(71271,)\n",
            "(71271, 100)\n",
            "X_data.shape:  (71271, 100)\n",
            "X_train.shape:  (24758, 100)\n",
            "X_val.shape:  (23256, 100)\n",
            "X_test.shape:  (23257, 100)\n"
          ]
        }
      ],
      "source": [
        "import nltk\n",
        "\n",
        "nltk.download(\"all\")\n",
        "# Add these downloads before the preprocessing code\n",
        "nltk.download(\"punkt\")\n",
        "nltk.download(\"punkt_tab\")\n",
        "nltk.download(\"averaged_perceptron_tagger\")\n",
        "nltk.download(\"wordnet\")\n",
        "\n",
        "lemma = True\n",
        "\n",
        "# Rest of your code remains the same\n",
        "train = clean_dataset(np.array(train_data_clean))\n",
        "val = clean_dataset(np.array(val_data))\n",
        "test = clean_dataset(np.expand_dims(np.array(test_data[\"Phrase\"]), axis=1))\n",
        "print(train[:,0].shape)\n",
        "print(val[:,0].shape)\n",
        "print(test[:,0].shape)\n",
        "print(np.concatenate((train[:,0], test[:,0], val[:,0])).shape)\n",
        "\n",
        "token_texts = tokenize_lexicon(np.concatenate((train[:,0], val[:,0], test[:,0])))\n",
        "\n",
        "del train\n",
        "del val\n",
        "del test\n",
        "\n",
        "if(lemma):\n",
        "    lemm_texts = lemmatize_texts(token_texts)\n",
        "else:\n",
        "    lemm_texts = stem_texts(token_texts)\n",
        "del token_texts\n",
        "processed_texts = backtostring(lemm_texts)\n",
        "del lemm_texts\n",
        "# matrix counts\n",
        "vectorizer = CountVectorizer(input='content', stop_words='english', min_df=3, max_features = 100)\n",
        "X = vectorizer.fit_transform(processed_texts)\n",
        "del processed_texts\n",
        "del vectorizer\n",
        "X_dense = X.todense()\n",
        "print(X_dense.shape)\n",
        "del X\n",
        "\n",
        "# tfidf\n",
        "tfidf_vectorizer = TfidfTransformer()\n",
        "X_tfidf = tfidf_vectorizer.fit_transform(np.array(X_dense))\n",
        "del X_dense\n",
        "X_data = (np.array(X_tfidf.todense()))\n",
        "print(\"X_data.shape: \", X_data.shape)\n",
        "\n",
        "X_train = X_data[:train_data_clean['Phrase'].shape[0]]\n",
        "X_val = X_data[train_data_clean['Phrase'].shape[0]:train_data_clean['Phrase'].shape[0]+val_data['Phrase'].shape[0]]\n",
        "X_test = X_data[train_data_clean['Phrase'].shape[0]+val_data['Phrase'].shape[0]:]\n",
        "del X_data\n",
        "print(\"X_train.shape: \", X_train.shape)\n",
        "print(\"X_val.shape: \", X_val.shape)\n",
        "print(\"X_test.shape: \", X_test.shape)"
      ]
    },
    {
      "cell_type": "markdown",
      "metadata": {
        "id": "BZyTz60oE2Ml"
      },
      "source": [
        "Sklearn Multinomial NB"
      ]
    },
    {
      "cell_type": "code",
      "execution_count": 18,
      "metadata": {
        "colab": {
          "base_uri": "https://localhost:8080/"
        },
        "id": "nuPqD9lShdPQ",
        "outputId": "d9ee8f99-4ae7-4d05-f88b-95b4378fa3b9"
      },
      "outputs": [
        {
          "name": "stdout",
          "output_type": "stream",
          "text": [
            "Accuracy:  0.5913312693498453\n"
          ]
        }
      ],
      "source": [
        "from sklearn.naive_bayes import MultinomialNB\n",
        "from sklearn.metrics import accuracy_score\n",
        "\n",
        "clf = MultinomialNB(alpha=1e-3) # tried 1,10,100,1e-3\n",
        "clf.fit(X_train, y_train_clean)\n",
        "sk_y = clf.predict(X_val)\n",
        "y_test_pred = clf.predict(X_test)\n",
        "# print(\"Feature Count \\n\",clf.feature_count_)\n",
        "# print(\"Class Log Prior \",clf.class_log_prior_)\n",
        "print('Accuracy: ', accuracy_score(y_val, sk_y))\n",
        "# print(clf.predict_proba(X_test))"
      ]
    },
    {
      "cell_type": "code",
      "execution_count": 19,
      "metadata": {
        "colab": {
          "base_uri": "https://localhost:8080/"
        },
        "id": "e5cV_v97hdPU",
        "outputId": "9e168082-fc6b-4f96-a7c8-ad6091ce23e1"
      },
      "outputs": [
        {
          "name": "stdout",
          "output_type": "stream",
          "text": [
            "Number of labels = 0 in val dataset as percentage: 13.95%\n",
            "Number of labels = 1 in val dataset as percentage: 13.80%\n",
            "Number of labels = 2 in val dataset as percentage: 16.09%\n",
            "Number of labels = 3 in val dataset as percentage: 35.32%\n",
            "Number of labels = 4 in val dataset as percentage: 20.83%\n"
          ]
        }
      ],
      "source": [
        "print(f\"Number of labels = 0 in val dataset as percentage: {((sk_y == 0).sum() / (X_val.shape[0])) * 100:0.2f}%\")\n",
        "print(f\"Number of labels = 1 in val dataset as percentage: {((sk_y == 1).sum() / (X_val.shape[0])) * 100:0.2f}%\")\n",
        "print(f\"Number of labels = 2 in val dataset as percentage: {((sk_y == 2).sum() / (X_val.shape[0])) * 100:0.2f}%\")\n",
        "print(f\"Number of labels = 3 in val dataset as percentage: {((sk_y == 3).sum() / (X_val.shape[0])) * 100:0.2f}%\")\n",
        "print(f\"Number of labels = 4 in val dataset as percentage: {((sk_y == 4).sum() / (X_val.shape[0])) * 100:0.2f}%\")"
      ]
    },
    {
      "cell_type": "markdown",
      "metadata": {
        "id": "Yko5XY2ME3E2"
      },
      "source": [
        "Sklearn SGD Classifier"
      ]
    },
    {
      "cell_type": "code",
      "execution_count": 20,
      "metadata": {
        "colab": {
          "base_uri": "https://localhost:8080/"
        },
        "id": "sY8LDnqghdPV",
        "outputId": "2f5349e0-ac0e-41ea-93ee-7234802d0516"
      },
      "outputs": [
        {
          "name": "stdout",
          "output_type": "stream",
          "text": [
            "Accuracy:  0.5706914344685242\n"
          ]
        }
      ],
      "source": [
        "from sklearn.linear_model import SGDClassifier\n",
        "from sklearn.metrics import accuracy_score\n",
        "\n",
        "clf_sgd = SGDClassifier(loss='hinge', penalty='l2',alpha=1e-5, random_state=42)\n",
        "clf_sgd.fit(X_train, y_train_clean)\n",
        "y_val_pred = clf_sgd.predict(X_val)\n",
        "y_test_pred = clf.predict(X_test)\n",
        "# print(\"Feature Count \\n\",clf_sgd.feature_count_)\n",
        "# print(\"Class Log Prior \",clf_sgd.class_log_prior_)\n",
        "print('Accuracy: ', accuracy_score(y_val, y_val_pred))\n",
        "# print(clf_sgd.predict_proba(X_test))"
      ]
    },
    {
      "cell_type": "code",
      "execution_count": 21,
      "metadata": {
        "colab": {
          "base_uri": "https://localhost:8080/"
        },
        "id": "KfoPr89LhdPV",
        "outputId": "9a375056-81b9-4a33-cc0f-a10bc3f8d0bb"
      },
      "outputs": [
        {
          "name": "stdout",
          "output_type": "stream",
          "text": [
            "Number of labels = 0 in val dataset as percentage: 0.01%\n",
            "Number of labels = 1 in val dataset as percentage: 0.16%\n",
            "Number of labels = 2 in val dataset as percentage: 7.90%\n",
            "Number of labels = 3 in val dataset as percentage: 83.31%\n",
            "Number of labels = 4 in val dataset as percentage: 8.62%\n"
          ]
        }
      ],
      "source": [
        "print(f\"Number of labels = 0 in val dataset as percentage: {((y_pred == 0).sum() / (X_val.shape[0])) * 100:0.2f}%\")\n",
        "print(f\"Number of labels = 1 in val dataset as percentage: {((y_pred == 1).sum() / (X_val.shape[0])) * 100:0.2f}%\")\n",
        "print(f\"Number of labels = 2 in val dataset as percentage: {((y_pred == 2).sum() / (X_val.shape[0])) * 100:0.2f}%\")\n",
        "print(f\"Number of labels = 3 in val dataset as percentage: {((y_pred == 3).sum() / (X_val.shape[0])) * 100:0.2f}%\")\n",
        "print(f\"Number of labels = 4 in val dataset as percentage: {((y_pred == 4).sum() / (X_val.shape[0])) * 100:0.2f}%\")"
      ]
    },
    {
      "cell_type": "markdown",
      "metadata": {
        "id": "RWn4WbbPdKMY"
      },
      "source": [
        "# Preprocess using Glove\n",
        "\n",
        "Download the \"glove.6B.300d.txt\" embedding file from [this link](http://nlp.uoregon.edu/download/embeddings/). WARNING: THIS IS A 1GB DOWNLOAD.\n",
        "\n",
        "The following pseudo-code is erroneous/buggy -> you will have to debug this code to generate your feature vectors based on the GLoVe embedding."
      ]
    },
    {
      "cell_type": "code",
      "execution_count": 40,
      "metadata": {
        "id": "BuN9Qd4IcR5n"
      },
      "outputs": [],
      "source": [
        "glove = {}\n",
        "dimension_of_glove = 300\n",
        "with open(\"/Users/emilygelchie/Downloads/glove.6B.300d.txt\", \"r\") as f: # if 'r' fails with unicode error, please use 'rb'\n",
        "    for line in f:\n",
        "        values = line.split()\n",
        "        word = values[0]\n",
        "        vector = np.asarray(values[1:], \"float32\")\n",
        "        glove[word] = vector"
      ]
    },
    {
      "cell_type": "code",
      "execution_count": 41,
      "metadata": {
        "id": "pzoXVJSxcR5n"
      },
      "outputs": [
        {
          "name": "stdout",
          "output_type": "stream",
          "text": [
            "400000\n"
          ]
        }
      ],
      "source": [
        "# Number of words\n",
        "print(len(glove.keys()))"
      ]
    },
    {
      "cell_type": "code",
      "execution_count": 42,
      "metadata": {
        "id": "NXz2xVVAcR5n"
      },
      "outputs": [
        {
          "name": "stdout",
          "output_type": "stream",
          "text": [
            "300\n"
          ]
        }
      ],
      "source": [
        "# Embedding length\n",
        "for i in glove.values():\n",
        "    print(len(i))\n",
        "    break"
      ]
    },
    {
      "cell_type": "code",
      "execution_count": 43,
      "metadata": {
        "id": "xe_wD39JcR5o"
      },
      "outputs": [],
      "source": [
        "import math\n",
        "\n",
        "def get_keywords_as_list(df):\n",
        "    # Preprocess and get the keywords as a list of lists\n",
        "    raw_list_keywords = []\n",
        "    phrases = list(df[\"Phrase\"])\n",
        "    # print(phrases)\n",
        "    # print(type(phrases))\n",
        "    for idx, text in enumerate(phrases):\n",
        "        if idx == 0:\n",
        "            print(text)\n",
        "        # Each entry in \"keywords\" is a list of keywords. But they are stored as strings and not as a list.\n",
        "        # We need to convert this string to a list.\n",
        "        texter = text.lower()\n",
        "        # Remove single quotes\n",
        "        texter = re.sub(r'\\'', '', texter)\n",
        "        # Remove the [] at the start and end. Split entries by \", \"\n",
        "        text_as_list = texter.strip('[]').split(\", \")\n",
        "        raw_list_keywords.append(text_as_list)\n",
        "        if idx == 0:\n",
        "            print(raw_list_keywords)\n",
        "    return raw_list_keywords\n",
        "\n",
        "def clean_list_keywords(raw_lkeys):\n",
        "    cleaned_list_keywords = []\n",
        "    for lkeys in raw_lkeys:\n",
        "        cleaned_list_keywords.append([key for key in lkeys if key in glove.keys()])\n",
        "    return cleaned_list_keywords\n",
        "\n",
        "def normalize_vector(vec):\n",
        "    return vec / np.linalg.norm(vec,ord=2)\n",
        "\n",
        "def get_feature_list(cleaned_lkeys, glove_model):\n",
        "    feat_list = []\n",
        "    for lkeys in cleaned_lkeys:\n",
        "        # Zero initial value since we will average them glove_model values for all the keywords\n",
        "        # We use 'the' as an example key to get the number of dims.\n",
        "        # 'the' is a very common word and would be there in any training corpus.\n",
        "        rep_glove_vec = np.zeros(len(glove_model['the']))\n",
        "        for key in lkeys:\n",
        "            rep_glove_vec += glove_model[key]\n",
        "        rep_glove_vec /= len(lkeys)\n",
        "\n",
        "        # feat_list.append(normalize_vector(rep_glove_vec))\n",
        "        feat_list.append(rep_glove_vec)\n",
        "    return np.array(feat_list)"
      ]
    },
    {
      "cell_type": "code",
      "execution_count": 45,
      "metadata": {
        "id": "nfNuBc4icR5o"
      },
      "outputs": [],
      "source": [
        "def get_keywords_as_list(df):\n",
        "    raw_list_keywords = []\n",
        "    phrases = list(df[\"Phrase\"])\n",
        "\n",
        "    for idx, text in enumerate(phrases):\n",
        "        # Handle NaN or float values\n",
        "        if pd.isna(text) or not isinstance(text, str):\n",
        "            text = str(text)  # Convert to string\n",
        "\n",
        "        # Convert to lowercase\n",
        "        texter = text.lower()\n",
        "\n",
        "        # Remove single quotes\n",
        "        texter = re.sub(r\"\\'\", \"\", texter)\n",
        "\n",
        "        # Split into words\n",
        "        text_as_list = texter.strip(\"[]\").split()  # Changed split(\", \") to split()\n",
        "\n",
        "        raw_list_keywords.append(text_as_list)\n",
        "\n",
        "        if idx == 0:  # Debug print for first item\n",
        "            print(f\"Original text: {text}\")\n",
        "            print(f\"Processed list: {text_as_list}\")\n",
        "\n",
        "    return raw_list_keywords\n"
      ]
    },
    {
      "cell_type": "code",
      "execution_count": 47,
      "metadata": {
        "id": "PTXvUmZScR5o"
      },
      "outputs": [
        {
          "name": "stdout",
          "output_type": "stream",
          "text": [
            "X_train shape: (24758, 300)\n",
            "X_val shape: (23256, 300)\n",
            "X_test shape: (23257, 300)\n"
          ]
        }
      ],
      "source": [
        "# 1. First define the helper functions\n",
        "def get_keywords_as_list(df):\n",
        "    raw_list_keywords = []\n",
        "    phrases = list(df[\"Phrase\"])\n",
        "\n",
        "    for idx, text in enumerate(phrases):\n",
        "        # Handle NaN or float values\n",
        "        if pd.isna(text) or not isinstance(text, str):\n",
        "            text = str(text)\n",
        "\n",
        "        # Convert to lowercase\n",
        "        texter = text.lower()\n",
        "\n",
        "        # Remove single quotes\n",
        "        texter = re.sub(r\"\\'\", \"\", texter)\n",
        "\n",
        "        # Split into words\n",
        "        text_as_list = texter.strip(\"[]\").split()\n",
        "\n",
        "        raw_list_keywords.append(text_as_list)\n",
        "    return raw_list_keywords\n",
        "\n",
        "\n",
        "def clean_list_keywords(raw_lkeys):\n",
        "    cleaned_list_keywords = []\n",
        "    for lkeys in raw_lkeys:\n",
        "        cleaned_list_keywords.append([key for key in lkeys if key in glove.keys()])\n",
        "    return cleaned_list_keywords\n",
        "\n",
        "\n",
        "def get_feature_list(cleaned_lkeys, glove_model):\n",
        "    feat_list = []\n",
        "    for lkeys in cleaned_lkeys:\n",
        "        # Handle empty lists\n",
        "        if not lkeys:\n",
        "            rep_glove_vec = np.zeros(dimension_of_glove)\n",
        "        else:\n",
        "            rep_glove_vec = np.zeros(dimension_of_glove)\n",
        "            for key in lkeys:\n",
        "                rep_glove_vec += glove_model[key]\n",
        "            rep_glove_vec /= len(lkeys)\n",
        "        feat_list.append(rep_glove_vec)\n",
        "    return np.array(feat_list)\n",
        "\n",
        "\n",
        "# 2. Generate the keyword lists\n",
        "train_kws = clean_list_keywords(get_keywords_as_list(train_data_clean))\n",
        "val_kws = clean_list_keywords(get_keywords_as_list(val_data))\n",
        "test_kws = clean_list_keywords(get_keywords_as_list(test_data))\n",
        "\n",
        "# 3. Generate the feature vectors\n",
        "X_train = get_feature_list(train_kws, glove)\n",
        "X_val = get_feature_list(val_kws, glove)\n",
        "X_test = get_feature_list(test_kws, glove)\n",
        "\n",
        "# 4. Print shapes to verify\n",
        "print(\"X_train shape:\", X_train.shape)\n",
        "print(\"X_val shape:\", X_val.shape)\n",
        "print(\"X_test shape:\", X_test.shape)\n"
      ]
    },
    {
      "cell_type": "code",
      "execution_count": 48,
      "metadata": {
        "id": "FGyNJnnecbGh"
      },
      "outputs": [
        {
          "name": "stdout",
          "output_type": "stream",
          "text": [
            "(24758, 300)\n",
            "(23256, 300)\n",
            "(23257, 300)\n"
          ]
        }
      ],
      "source": [
        "print(X_train.shape)\n",
        "print(X_val.shape)\n",
        "print(X_test.shape)"
      ]
    },
    {
      "cell_type": "markdown",
      "metadata": {
        "id": "Fj_7lOBXE7nG"
      },
      "source": [
        "Sklearn Multinomial NB"
      ]
    },
    {
      "cell_type": "code",
      "execution_count": 50,
      "metadata": {
        "id": "JXgbOEmmcbI0"
      },
      "outputs": [
        {
          "name": "stdout",
          "output_type": "stream",
          "text": [
            "Accuracy:  0.37237702098383213\n"
          ]
        }
      ],
      "source": [
        "from sklearn.preprocessing import MinMaxScaler\n",
        "from sklearn.naive_bayes import MultinomialNB\n",
        "\n",
        "# Option 2: Scale features to be non-negative\n",
        "scaler = MinMaxScaler()\n",
        "X_train_scaled = scaler.fit_transform(X_train)\n",
        "X_val_scaled = scaler.transform(X_val)\n",
        "\n",
        "# Then use MultinomialNB\n",
        "clf = MultinomialNB(alpha=1e-3)\n",
        "clf.fit(X_train_scaled, y_train_clean)\n",
        "sk_y = clf.predict(X_val_scaled)\n",
        "print(\"Accuracy: \", accuracy_score(y_val, sk_y))\n"
      ]
    },
    {
      "cell_type": "code",
      "execution_count": 51,
      "metadata": {
        "id": "BB1j_5SNcbK9"
      },
      "outputs": [
        {
          "name": "stdout",
          "output_type": "stream",
          "text": [
            "Number of labels = 0 in val dataset as percentage: 2.53%\n",
            "Number of labels = 1 in val dataset as percentage: 4.71%\n",
            "Number of labels = 2 in val dataset as percentage: 0.18%\n",
            "Number of labels = 3 in val dataset as percentage: 58.05%\n",
            "Number of labels = 4 in val dataset as percentage: 34.52%\n"
          ]
        }
      ],
      "source": [
        "print(f\"Number of labels = 0 in val dataset as percentage: {((sk_y == 0).sum() / (X_val.shape[0])) * 100:0.2f}%\")\n",
        "print(f\"Number of labels = 1 in val dataset as percentage: {((sk_y == 1).sum() / (X_val.shape[0])) * 100:0.2f}%\")\n",
        "print(f\"Number of labels = 2 in val dataset as percentage: {((sk_y == 2).sum() / (X_val.shape[0])) * 100:0.2f}%\")\n",
        "print(f\"Number of labels = 3 in val dataset as percentage: {((sk_y == 3).sum() / (X_val.shape[0])) * 100:0.2f}%\")\n",
        "print(f\"Number of labels = 4 in val dataset as percentage: {((sk_y == 4).sum() / (X_val.shape[0])) * 100:0.2f}%\")"
      ]
    },
    {
      "cell_type": "markdown",
      "metadata": {
        "id": "kr6P_V4EE7nH"
      },
      "source": [
        "Sklearn SGD Classifier"
      ]
    },
    {
      "cell_type": "code",
      "execution_count": 52,
      "metadata": {
        "id": "NcqDR65WcbNS"
      },
      "outputs": [
        {
          "name": "stdout",
          "output_type": "stream",
          "text": [
            "Accuracy:  0.8028895768833849\n"
          ]
        }
      ],
      "source": [
        "from sklearn.linear_model import SGDClassifier\n",
        "from sklearn.metrics import accuracy_score\n",
        "\n",
        "clf_sgd = SGDClassifier(loss='hinge', penalty='l2',alpha=1e-5, random_state=42)\n",
        "clf_sgd.fit(X_train, y_train_clean)\n",
        "y_pred = clf_sgd.predict(X_val)\n",
        "# print(\"Feature Count \\n\",clf_sgd.feature_count_)\n",
        "# print(\"Class Log Prior \",clf_sgd.class_log_prior_)\n",
        "print('Accuracy: ', accuracy_score(y_val, y_pred))\n",
        "# print(clf_sgd.predict_proba(X_test))"
      ]
    },
    {
      "cell_type": "code",
      "execution_count": 53,
      "metadata": {
        "id": "4aZdRV6pzd2s"
      },
      "outputs": [
        {
          "name": "stdout",
          "output_type": "stream",
          "text": [
            "False\n",
            "Number of labels = 0 in val dataset as percentage: 18.88%\n",
            "Number of labels = 1 in val dataset as percentage: 16.13%\n",
            "Number of labels = 2 in val dataset as percentage: 21.35%\n",
            "Number of labels = 3 in val dataset as percentage: 21.95%\n",
            "Number of labels = 4 in val dataset as percentage: 21.69%\n"
          ]
        }
      ],
      "source": [
        "print((y_pred == 2).all())\n",
        "\n",
        "print(f\"Number of labels = 0 in val dataset as percentage: {((y_pred == 0).sum() / (X_val.shape[0])) * 100:0.2f}%\")\n",
        "print(f\"Number of labels = 1 in val dataset as percentage: {((y_pred == 1).sum() / (X_val.shape[0])) * 100:0.2f}%\")\n",
        "print(f\"Number of labels = 2 in val dataset as percentage: {((y_pred == 2).sum() / (X_val.shape[0])) * 100:0.2f}%\")\n",
        "print(f\"Number of labels = 3 in val dataset as percentage: {((y_pred == 3).sum() / (X_val.shape[0])) * 100:0.2f}%\")\n",
        "print(f\"Number of labels = 4 in val dataset as percentage: {((y_pred == 4).sum() / (X_val.shape[0])) * 100:0.2f}%\")"
      ]
    },
    {
      "cell_type": "markdown",
      "metadata": {
        "id": "WZRRGm7AFXTY"
      },
      "source": [
        "# Part 1: Now that you have your baseline numbers, run your (at least 2) unsupervised algorithms on the unlabelled portion of your train dataset"
      ]
    },
    {
      "cell_type": "code",
      "execution_count": null,
      "metadata": {
        "id": "vhiW-YaRFfaA"
      },
      "outputs": [],
      "source": []
    },
    {
      "cell_type": "markdown",
      "metadata": {
        "id": "XnvyM4VvFj-A"
      },
      "source": [
        "# Part 2: With your newly augmented dataset, re-run your supervised algorithms. How do the performance values change?"
      ]
    },
    {
      "cell_type": "code",
      "execution_count": null,
      "metadata": {
        "id": "L6QLp6NJFu-s"
      },
      "outputs": [],
      "source": []
    }
  ],
  "metadata": {
    "accelerator": "GPU",
    "colab": {
      "gpuType": "T4",
      "provenance": []
    },
    "kernelspec": {
      "display_name": "Python 3",
      "name": "python3"
    },
    "language_info": {
      "codemirror_mode": {
        "name": "ipython",
        "version": 3
      },
      "file_extension": ".py",
      "mimetype": "text/x-python",
      "name": "python",
      "nbconvert_exporter": "python",
      "pygments_lexer": "ipython3",
      "version": "3.12.4"
    }
  },
  "nbformat": 4,
  "nbformat_minor": 0
}
